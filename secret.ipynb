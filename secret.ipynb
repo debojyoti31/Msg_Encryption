{
 "cells": [
  {
   "cell_type": "code",
   "execution_count": 30,
   "metadata": {},
   "outputs": [],
   "source": [
    "import numpy as np"
   ]
  },
  {
   "cell_type": "code",
   "execution_count": 31,
   "metadata": {},
   "outputs": [],
   "source": [
    "def text_to_matrix(text):\n",
    "  # Split the text into a list of words\n",
    "  words = text.split()\n",
    "  # Find the longest word\n",
    "  max_len = len(max(words, key=len))\n",
    "  # Add spaces to the end of each word to make them all the same length\n",
    "  for i in range(len(words)):\n",
    "    words[i] = words[i] + \" \" * (max_len - len(words[i]))\n",
    "  # Create a matrix by transposing the list of words\n",
    "  matrix1 = [[ord(row[i]) for row in words] for i in range(max_len)]\n",
    "  matrix = np.transpose(matrix1)\n",
    "  # Convert the matrix to a numpy array\n",
    "  matrix = np.array(matrix)\n",
    "  return matrix\n",
    "\n",
    "def encode(matrix, key):\n",
    "  # Multiply the matrix by the key\n",
    "  encoded = np.matmul(matrix, key)\n",
    "  # Print the encoded matrix\n",
    "  return encoded\n"
   ]
  },
  {
   "cell_type": "code",
   "execution_count": 32,
   "metadata": {},
   "outputs": [],
   "source": [
    "def decode(encoded, key):\n",
    "  # Find the inverse of the key matrix\n",
    "  key_inv = np.linalg.inv(key)\n",
    "  # Multiply the encoded matrix by the inverse of the key matrix\n",
    "  matrix1 = np.matmul(encoded, key_inv)\n",
    "  matrix = np.rint(np.transpose(matrix1))\n",
    "  matrix2 = matrix.astype(int)\n",
    "\n",
    "\n",
    "  # Find the number of rows in the matrix\n",
    "  num_rows = len(matrix2[0])\n",
    "  # Create a list of words by reading the matrix column by column\n",
    "  words = [''.join([chr(row[i]) for row in matrix2]) for i in range(num_rows)]\n",
    "  # Strip the extra spaces from the end of each word\n",
    "  words = [word.rstrip() for word in words]\n",
    "  # Join the words into a single string and return it\n",
    "  return \" \".join(words)"
   ]
  },
  {
   "cell_type": "code",
   "execution_count": 33,
   "metadata": {},
   "outputs": [],
   "source": [
    "import numpy as np\n",
    "\n",
    "def generate_key(n: int, low: int, high: int) -> np.ndarray:\n",
    "    \"\"\"Generate a random n*n non-singular matrix of integers.\"\"\"\n",
    "    A = np.random.randint(low, high, size=(n, n))\n",
    "    while np.linalg.matrix_rank(A) < n:\n",
    "        A = np.random.randint(low, high, size=(n, n))\n",
    "    return A"
   ]
  },
  {
   "cell_type": "code",
   "execution_count": 34,
   "metadata": {},
   "outputs": [],
   "source": [
    "# Test the encode and decode functions\n",
    "text = '''  অল্পপ্রাণ\n",
    "  # Create a list of words by reading the matrix column by column\n",
    "  words = [''.join([chr(row[i]) for row in matrix2]) for i in range(num_rows)]\n",
    "  # Strip the extra spaces from the end of each word\n",
    "  words = [word.rstrip() for word in words]'''"
   ]
  },
  {
   "cell_type": "code",
   "execution_count": 35,
   "metadata": {},
   "outputs": [
    {
     "name": "stdout",
     "output_type": "stream",
     "text": [
      "key shape should be 21\n"
     ]
    }
   ],
   "source": [
    "# Making sure there is atleast one word and atleast word length is 5\n",
    "text += ' ~rajit'\n",
    "\n",
    "matrix_text= text_to_matrix(text)\n",
    "print('key shape should be',matrix_text.shape[1])"
   ]
  },
  {
   "cell_type": "code",
   "execution_count": 36,
   "metadata": {},
   "outputs": [],
   "source": [
    "key = generate_key(21, 1, 10)\n",
    "# key = np.genfromtxt(\"1_21_.csv\")\n",
    "# key"
   ]
  },
  {
   "cell_type": "code",
   "execution_count": 37,
   "metadata": {},
   "outputs": [],
   "source": [
    "encoded_msg = encode(matrix_text, key)\n",
    "np.savetxt(\"encoded_msg.csv\",encoded_msg)"
   ]
  },
  {
   "cell_type": "code",
   "execution_count": 38,
   "metadata": {},
   "outputs": [
    {
     "name": "stdout",
     "output_type": "stream",
     "text": [
      "key is of shape 21\n"
     ]
    }
   ],
   "source": [
    "encoded = np.genfromtxt(\"encoded_msg.csv\")\n",
    "print('key is of shape',encoded.shape[1])\n"
   ]
  },
  {
   "cell_type": "code",
   "execution_count": 39,
   "metadata": {},
   "outputs": [],
   "source": [
    "with open(\"decoded_msg.txt\", \"w\") as file:\n",
    "    # Write the string to the file\n",
    "    file.write(decode(encoded, key))"
   ]
  }
 ],
 "metadata": {
  "kernelspec": {
   "display_name": "Python 3",
   "language": "python",
   "name": "python3"
  },
  "language_info": {
   "codemirror_mode": {
    "name": "ipython",
    "version": 3
   },
   "file_extension": ".py",
   "mimetype": "text/x-python",
   "name": "python",
   "nbconvert_exporter": "python",
   "pygments_lexer": "ipython3",
   "version": "3.10.6 (main, Nov 14 2022, 16:10:14) [GCC 11.3.0]"
  },
  "orig_nbformat": 4,
  "vscode": {
   "interpreter": {
    "hash": "916dbcbb3f70747c44a77c7bcd40155683ae19c65e1c03b4aa3499c5328201f1"
   }
  }
 },
 "nbformat": 4,
 "nbformat_minor": 2
}
